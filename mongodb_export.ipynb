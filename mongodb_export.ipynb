{
 "cells": [
  {
   "cell_type": "code",
   "execution_count": 2,
   "metadata": {},
   "outputs": [],
   "source": [
    "from pyspark.sql import SparkSession\n",
    "from pyspark.sql.functions import udf,col \n",
    "from pyspark.sql.functions import udf,col,sum,avg,count,unix_timestamp\n",
    "import pandas as pd\n",
    "import boto3\n",
    "from io import StringIO"
   ]
  },
  {
   "cell_type": "code",
   "execution_count": 3,
   "metadata": {},
   "outputs": [
    {
     "name": "stdout",
     "output_type": "stream",
     "text": [
      "22/11/11 16:32:54 WARN Utils: Your hostname, Admins-MacBook-Air.local resolves to a loopback address: 127.0.0.1; using 172.29.171.168 instead (on interface en0)\n",
      "22/11/11 16:32:54 WARN Utils: Set SPARK_LOCAL_IP if you need to bind to another address\n",
      ":: loading settings :: url = jar:file:/Users/_charjan/Documents/Python/venv/lib/python3.10/site-packages/pyspark/jars/ivy-2.5.0.jar!/org/apache/ivy/core/settings/ivysettings.xml\n"
     ]
    },
    {
     "name": "stderr",
     "output_type": "stream",
     "text": [
      "Ivy Default Cache set to: /Users/_charjan/.ivy2/cache\n",
      "The jars for the packages stored in: /Users/_charjan/.ivy2/jars\n",
      "org.mongodb.spark#mongo-spark-connector_2.12 added as a dependency\n",
      ":: resolving dependencies :: org.apache.spark#spark-submit-parent-be5b37c8-a1c4-419f-a066-a98a5362541a;1.0\n",
      "\tconfs: [default]\n",
      "\tfound org.mongodb.spark#mongo-spark-connector_2.12;3.0.1 in central\n",
      "\tfound org.mongodb#mongodb-driver-sync;4.0.5 in central\n",
      "\tfound org.mongodb#bson;4.0.5 in central\n",
      "\tfound org.mongodb#mongodb-driver-core;4.0.5 in central\n",
      ":: resolution report :: resolve 384ms :: artifacts dl 19ms\n",
      "\t:: modules in use:\n",
      "\torg.mongodb#bson;4.0.5 from central in [default]\n",
      "\torg.mongodb#mongodb-driver-core;4.0.5 from central in [default]\n",
      "\torg.mongodb#mongodb-driver-sync;4.0.5 from central in [default]\n",
      "\torg.mongodb.spark#mongo-spark-connector_2.12;3.0.1 from central in [default]\n",
      "\t---------------------------------------------------------------------\n",
      "\t|                  |            modules            ||   artifacts   |\n",
      "\t|       conf       | number| search|dwnlded|evicted|| number|dwnlded|\n",
      "\t---------------------------------------------------------------------\n",
      "\t|      default     |   4   |   0   |   0   |   0   ||   4   |   0   |\n",
      "\t---------------------------------------------------------------------\n",
      ":: retrieving :: org.apache.spark#spark-submit-parent-be5b37c8-a1c4-419f-a066-a98a5362541a\n",
      "\tconfs: [default]\n",
      "\t0 artifacts copied, 4 already retrieved (0kB/10ms)\n"
     ]
    },
    {
     "name": "stdout",
     "output_type": "stream",
     "text": [
      "22/11/11 16:32:55 WARN NativeCodeLoader: Unable to load native-hadoop library for your platform... using builtin-java classes where applicable\n"
     ]
    },
    {
     "name": "stderr",
     "output_type": "stream",
     "text": [
      "Setting default log level to \"WARN\".\n",
      "To adjust logging level use sc.setLogLevel(newLevel). For SparkR, use setLogLevel(newLevel).\n"
     ]
    }
   ],
   "source": [
    "spark = SparkSession.builder.appName (\"Analytics project session\")\\\n",
    "    .config(\"spark.mongodb.input.uri\", \"mongodb://127.0.0.1:27017/mock-project.dataCollection\") \\\n",
    "    .config(\"spark.mongodb.output.uri\", \"mongodb://127.0.0.1:27017/mock-project.dataCollection\") \\\n",
    "    .config('spark.jars.packages', 'org.mongodb.spark:mongo-spark-connector_2.12:3.0.1') \\\n",
    "    .getOrCreate()"
   ]
  },
  {
   "cell_type": "code",
   "execution_count": 4,
   "metadata": {},
   "outputs": [
    {
     "name": "stderr",
     "output_type": "stream",
     "text": [
      "[Stage 3:>                                                          (0 + 4) / 4]\r"
     ]
    },
    {
     "name": "stdout",
     "output_type": "stream",
     "text": [
      "22/11/11 16:33:08 WARN CSVHeaderChecker: CSV header does not conform to the schema.\n",
      " Header: order_freight_value, customer_city, order_purchase_timestamp\n",
      " Schema: 17.8, Luziania, 2017-01-02 10:56:00\n",
      "Expected: 17.8 but found: order_freight_value\n",
      "CSV file: file:///Users/_charjan/Desktop/Training/Mock_project/Amazon-Mock-Project/data/cleaned_data.csv/headers.csv\n"
     ]
    },
    {
     "name": "stderr",
     "output_type": "stream",
     "text": [
      "[Stage 3:=============================>                             (2 + 2) / 4]\r"
     ]
    },
    {
     "name": "stdout",
     "output_type": "stream",
     "text": [
      "+--------------------+-------------------+-------------------+---------------------+\n",
      "|       customer_city|order_purchase_year|order_purchase_week|total_freight_charges|\n",
      "+--------------------+-------------------+-------------------+---------------------+\n",
      "|ALMIRANTE TAMANDA...|               2017|                  4|                 15.1|\n",
      "|ALMIRANTE TAMANDA...|               2018|                  1|                23.28|\n",
      "|ALTA FLORESTA D'O...|               2017|                  4|                37.77|\n",
      "|ALTA FLORESTA D'O...|               2018|                  1|                52.17|\n",
      "|ALTO ALEGRE DOS P...|               2017|                  2|                46.95|\n",
      "+--------------------+-------------------+-------------------+---------------------+\n",
      "only showing top 5 rows\n",
      "\n"
     ]
    },
    {
     "name": "stderr",
     "output_type": "stream",
     "text": [
      "                                                                                \r"
     ]
    }
   ],
   "source": [
    "from code_dfquery import *"
   ]
  },
  {
   "cell_type": "code",
   "execution_count": 5,
   "metadata": {},
   "outputs": [
    {
     "name": "stdout",
     "output_type": "stream",
     "text": [
      "22/11/11 16:33:15 WARN CSVHeaderChecker: CSV header does not conform to the schema.\n",
      " Header: order_products_value, order_freight_value, order_items_qty, order_purchase_timestamp\n",
      " Schema: 79.0, 17.8, 1.0, 2017-01-02 10:56:00\n",
      "Expected: 79.0 but found: order_products_value\n",
      "CSV file: file:///Users/_charjan/Desktop/Training/Mock_project/Amazon-Mock-Project/data/cleaned_data.csv/headers.csv\n"
     ]
    },
    {
     "name": "stderr",
     "output_type": "stream",
     "text": [
      "                                                                                \r"
     ]
    },
    {
     "name": "stdout",
     "output_type": "stream",
     "text": [
      "22/11/11 16:33:22 WARN CSVHeaderChecker: CSV header does not conform to the schema.\n",
      " Header: order_products_value, order_freight_value, order_items_qty, customer_city, order_purchase_timestamp\n",
      " Schema: 79.0, 17.8, 1.0, Luziania, 2017-01-02 10:56:00\n",
      "Expected: 79.0 but found: order_products_value\n",
      "CSV file: file:///Users/_charjan/Desktop/Training/Mock_project/Amazon-Mock-Project/data/cleaned_data.csv/headers.csv\n"
     ]
    },
    {
     "name": "stderr",
     "output_type": "stream",
     "text": [
      "                                                                                \r"
     ]
    },
    {
     "name": "stdout",
     "output_type": "stream",
     "text": [
      "22/11/11 16:33:30 WARN CSVHeaderChecker: CSV header does not conform to the schema.\n",
      " Header: order_products_value, order_freight_value, order_items_qty, customer_state, order_purchase_timestamp\n",
      " Schema: 79.0, 17.8, 1.0, GO, 2017-01-02 10:56:00\n",
      "Expected: 79.0 but found: order_products_value\n",
      "CSV file: file:///Users/_charjan/Desktop/Training/Mock_project/Amazon-Mock-Project/data/cleaned_data.csv/headers.csv\n"
     ]
    },
    {
     "name": "stderr",
     "output_type": "stream",
     "text": [
      "                                                                                \r"
     ]
    },
    {
     "name": "stdout",
     "output_type": "stream",
     "text": [
      "22/11/11 16:33:36 WARN CSVHeaderChecker: CSV header does not conform to the schema.\n",
      " Header: order_items_qty, order_purchase_timestamp\n",
      " Schema: 1.0, 2017-01-02 10:56:00\n",
      "Expected: 1.0 but found: order_items_qty\n",
      "CSV file: file:///Users/_charjan/Desktop/Training/Mock_project/Amazon-Mock-Project/data/cleaned_data.csv/headers.csv\n"
     ]
    },
    {
     "name": "stderr",
     "output_type": "stream",
     "text": [
      "                                                                                \r"
     ]
    },
    {
     "name": "stdout",
     "output_type": "stream",
     "text": [
      "22/11/11 16:33:43 WARN CSVHeaderChecker: CSV header does not conform to the schema.\n",
      " Header: order_items_qty, customer_city, order_purchase_timestamp\n",
      " Schema: 1.0, Luziania, 2017-01-02 10:56:00\n",
      "Expected: 1.0 but found: order_items_qty\n",
      "CSV file: file:///Users/_charjan/Desktop/Training/Mock_project/Amazon-Mock-Project/data/cleaned_data.csv/headers.csv\n"
     ]
    },
    {
     "name": "stderr",
     "output_type": "stream",
     "text": [
      "                                                                                \r"
     ]
    },
    {
     "name": "stdout",
     "output_type": "stream",
     "text": [
      "22/11/11 16:33:49 WARN CSVHeaderChecker: CSV header does not conform to the schema.\n",
      " Header: order_items_qty, customer_state, order_purchase_timestamp\n",
      " Schema: 1.0, GO, 2017-01-02 10:56:00\n",
      "Expected: 1.0 but found: order_items_qty\n",
      "CSV file: file:///Users/_charjan/Desktop/Training/Mock_project/Amazon-Mock-Project/data/cleaned_data.csv/headers.csv\n"
     ]
    },
    {
     "name": "stderr",
     "output_type": "stream",
     "text": [
      "                                                                                \r"
     ]
    },
    {
     "name": "stdout",
     "output_type": "stream",
     "text": [
      "22/11/11 16:33:55 WARN CSVHeaderChecker: CSV header does not conform to the schema.\n",
      " Header: review_score, order_purchase_timestamp\n",
      " Schema: 5.0, 2017-01-02 10:56:00\n",
      "Expected: 5.0 but found: review_score\n",
      "CSV file: file:///Users/_charjan/Desktop/Training/Mock_project/Amazon-Mock-Project/data/cleaned_data.csv/headers.csv\n"
     ]
    },
    {
     "name": "stderr",
     "output_type": "stream",
     "text": [
      "                                                                                \r"
     ]
    },
    {
     "name": "stdout",
     "output_type": "stream",
     "text": [
      "22/11/11 16:34:01 WARN CSVHeaderChecker: CSV header does not conform to the schema.\n",
      " Header: order_freight_value, order_purchase_timestamp\n",
      " Schema: 17.8, 2017-01-02 10:56:00\n",
      "Expected: 17.8 but found: order_freight_value\n",
      "CSV file: file:///Users/_charjan/Desktop/Training/Mock_project/Amazon-Mock-Project/data/cleaned_data.csv/headers.csv\n"
     ]
    },
    {
     "name": "stderr",
     "output_type": "stream",
     "text": [
      "                                                                                \r"
     ]
    },
    {
     "name": "stdout",
     "output_type": "stream",
     "text": [
      "22/11/11 16:34:07 WARN CSVHeaderChecker: CSV header does not conform to the schema.\n",
      " Header: order_purchase_timestamp, order_aproved_at\n",
      " Schema: 2017-01-02 10:56:00, 2017-01-02 11:07:00\n",
      "Expected: 2017-01-02 10:56:00 but found: order_purchase_timestamp\n",
      "CSV file: file:///Users/_charjan/Desktop/Training/Mock_project/Amazon-Mock-Project/data/cleaned_data.csv/headers.csv\n"
     ]
    },
    {
     "name": "stderr",
     "output_type": "stream",
     "text": [
      "                                                                                \r"
     ]
    },
    {
     "name": "stdout",
     "output_type": "stream",
     "text": [
      "22/11/11 16:34:13 WARN CSVHeaderChecker: CSV header does not conform to the schema.\n",
      " Header: order_purchase_timestamp, order_delivered_customer_date\n",
      " Schema: 2017-01-02 10:56:00, 2017-01-10 21:25:00\n",
      "Expected: 2017-01-02 10:56:00 but found: order_purchase_timestamp\n",
      "CSV file: file:///Users/_charjan/Desktop/Training/Mock_project/Amazon-Mock-Project/data/cleaned_data.csv/headers.csv\n"
     ]
    },
    {
     "name": "stderr",
     "output_type": "stream",
     "text": [
      "                                                                                \r"
     ]
    },
    {
     "name": "stdout",
     "output_type": "stream",
     "text": [
      "22/11/11 16:34:19 WARN CSVHeaderChecker: CSV header does not conform to the schema.\n",
      " Header: order_products_value, order_freight_value, order_items_qty, order_purchase_timestamp\n",
      " Schema: 79.0, 17.8, 1.0, 2017-01-02 10:56:00\n",
      "Expected: 79.0 but found: order_products_value\n",
      "CSV file: file:///Users/_charjan/Desktop/Training/Mock_project/Amazon-Mock-Project/data/cleaned_data.csv/headers.csv\n"
     ]
    },
    {
     "name": "stderr",
     "output_type": "stream",
     "text": [
      "                                                                                \r"
     ]
    },
    {
     "name": "stdout",
     "output_type": "stream",
     "text": [
      "22/11/11 16:34:24 WARN CSVHeaderChecker: CSV header does not conform to the schema.\n",
      " Header: order_products_value, order_freight_value, order_items_qty, customer_city, order_purchase_timestamp\n",
      " Schema: 79.0, 17.8, 1.0, Luziania, 2017-01-02 10:56:00\n",
      "Expected: 79.0 but found: order_products_value\n",
      "CSV file: file:///Users/_charjan/Desktop/Training/Mock_project/Amazon-Mock-Project/data/cleaned_data.csv/headers.csv\n"
     ]
    },
    {
     "name": "stderr",
     "output_type": "stream",
     "text": [
      "                                                                                \r"
     ]
    },
    {
     "name": "stdout",
     "output_type": "stream",
     "text": [
      "22/11/11 16:34:30 WARN CSVHeaderChecker: CSV header does not conform to the schema.\n",
      " Header: order_products_value, order_freight_value, order_items_qty, customer_state, order_purchase_timestamp\n",
      " Schema: 79.0, 17.8, 1.0, GO, 2017-01-02 10:56:00\n",
      "Expected: 79.0 but found: order_products_value\n",
      "CSV file: file:///Users/_charjan/Desktop/Training/Mock_project/Amazon-Mock-Project/data/cleaned_data.csv/headers.csv\n"
     ]
    },
    {
     "name": "stderr",
     "output_type": "stream",
     "text": [
      "                                                                                \r"
     ]
    },
    {
     "name": "stdout",
     "output_type": "stream",
     "text": [
      "22/11/11 16:34:36 WARN CSVHeaderChecker: CSV header does not conform to the schema.\n",
      " Header: order_items_qty, order_purchase_timestamp\n",
      " Schema: 1.0, 2017-01-02 10:56:00\n",
      "Expected: 1.0 but found: order_items_qty\n",
      "CSV file: file:///Users/_charjan/Desktop/Training/Mock_project/Amazon-Mock-Project/data/cleaned_data.csv/headers.csv\n"
     ]
    },
    {
     "name": "stderr",
     "output_type": "stream",
     "text": [
      "                                                                                \r"
     ]
    },
    {
     "name": "stdout",
     "output_type": "stream",
     "text": [
      "22/11/11 16:34:41 WARN CSVHeaderChecker: CSV header does not conform to the schema.\n",
      " Header: order_items_qty, customer_city, order_purchase_timestamp\n",
      " Schema: 1.0, Luziania, 2017-01-02 10:56:00\n",
      "Expected: 1.0 but found: order_items_qty\n",
      "CSV file: file:///Users/_charjan/Desktop/Training/Mock_project/Amazon-Mock-Project/data/cleaned_data.csv/headers.csv\n"
     ]
    },
    {
     "name": "stderr",
     "output_type": "stream",
     "text": [
      "                                                                                \r"
     ]
    },
    {
     "name": "stdout",
     "output_type": "stream",
     "text": [
      "22/11/11 16:34:48 WARN CSVHeaderChecker: CSV header does not conform to the schema.\n",
      " Header: order_items_qty, customer_state, order_purchase_timestamp\n",
      " Schema: 1.0, GO, 2017-01-02 10:56:00\n",
      "Expected: 1.0 but found: order_items_qty\n",
      "CSV file: file:///Users/_charjan/Desktop/Training/Mock_project/Amazon-Mock-Project/data/cleaned_data.csv/headers.csv\n"
     ]
    },
    {
     "name": "stderr",
     "output_type": "stream",
     "text": [
      "                                                                                \r"
     ]
    },
    {
     "name": "stdout",
     "output_type": "stream",
     "text": [
      "22/11/11 16:34:53 WARN CSVHeaderChecker: CSV header does not conform to the schema.\n",
      " Header: review_score, order_purchase_timestamp\n",
      " Schema: 5.0, 2017-01-02 10:56:00\n",
      "Expected: 5.0 but found: review_score\n",
      "CSV file: file:///Users/_charjan/Desktop/Training/Mock_project/Amazon-Mock-Project/data/cleaned_data.csv/headers.csv\n"
     ]
    },
    {
     "name": "stderr",
     "output_type": "stream",
     "text": [
      "                                                                                \r"
     ]
    },
    {
     "name": "stdout",
     "output_type": "stream",
     "text": [
      "22/11/11 16:34:59 WARN CSVHeaderChecker: CSV header does not conform to the schema.\n",
      " Header: order_freight_value, order_purchase_timestamp\n",
      " Schema: 17.8, 2017-01-02 10:56:00\n",
      "Expected: 17.8 but found: order_freight_value\n",
      "CSV file: file:///Users/_charjan/Desktop/Training/Mock_project/Amazon-Mock-Project/data/cleaned_data.csv/headers.csv\n"
     ]
    },
    {
     "name": "stderr",
     "output_type": "stream",
     "text": [
      "                                                                                \r"
     ]
    },
    {
     "name": "stdout",
     "output_type": "stream",
     "text": [
      "22/11/11 16:35:05 WARN CSVHeaderChecker: CSV header does not conform to the schema.\n",
      " Header: order_purchase_timestamp, order_aproved_at\n",
      " Schema: 2017-01-02 10:56:00, 2017-01-02 11:07:00\n",
      "Expected: 2017-01-02 10:56:00 but found: order_purchase_timestamp\n",
      "CSV file: file:///Users/_charjan/Desktop/Training/Mock_project/Amazon-Mock-Project/data/cleaned_data.csv/headers.csv\n"
     ]
    },
    {
     "name": "stderr",
     "output_type": "stream",
     "text": [
      "                                                                                \r"
     ]
    },
    {
     "name": "stdout",
     "output_type": "stream",
     "text": [
      "22/11/11 16:35:11 WARN CSVHeaderChecker: CSV header does not conform to the schema.\n",
      " Header: order_purchase_timestamp, order_delivered_customer_date\n",
      " Schema: 2017-01-02 10:56:00, 2017-01-10 21:25:00\n",
      "Expected: 2017-01-02 10:56:00 but found: order_purchase_timestamp\n",
      "CSV file: file:///Users/_charjan/Desktop/Training/Mock_project/Amazon-Mock-Project/data/cleaned_data.csv/headers.csv\n"
     ]
    },
    {
     "name": "stderr",
     "output_type": "stream",
     "text": [
      "                                                                                \r"
     ]
    },
    {
     "name": "stdout",
     "output_type": "stream",
     "text": [
      "22/11/11 16:35:17 WARN CSVHeaderChecker: CSV header does not conform to the schema.\n",
      " Header: order_freight_value, order_purchase_timestamp\n",
      " Schema: 17.8, 2017-01-02 10:56:00\n",
      "Expected: 17.8 but found: order_freight_value\n",
      "CSV file: file:///Users/_charjan/Desktop/Training/Mock_project/Amazon-Mock-Project/data/cleaned_data.csv/headers.csv\n"
     ]
    },
    {
     "name": "stderr",
     "output_type": "stream",
     "text": [
      "                                                                                \r"
     ]
    },
    {
     "name": "stdout",
     "output_type": "stream",
     "text": [
      "22/11/11 16:35:22 WARN CSVHeaderChecker: CSV header does not conform to the schema.\n",
      " Header: order_freight_value, customer_city, order_purchase_timestamp\n",
      " Schema: 17.8, Luziania, 2017-01-02 10:56:00\n",
      "Expected: 17.8 but found: order_freight_value\n",
      "CSV file: file:///Users/_charjan/Desktop/Training/Mock_project/Amazon-Mock-Project/data/cleaned_data.csv/headers.csv\n"
     ]
    },
    {
     "name": "stderr",
     "output_type": "stream",
     "text": [
      "                                                                                \r"
     ]
    }
   ],
   "source": [
    "for key,value in df_names.items():\n",
    "    value.write\\\n",
    "        .format('com.mongodb.spark.sql.DefaultSource')\\\n",
    "        .option('uri', 'mongodb://127.0.0.1:27017/mock-project-amazon.' + key) \\\n",
    "        .save()"
   ]
  },
  {
   "cell_type": "code",
   "execution_count": null,
   "metadata": {},
   "outputs": [],
   "source": []
  }
 ],
 "metadata": {
  "kernelspec": {
   "display_name": "Python 3.10.6 ('venv')",
   "language": "python",
   "name": "python3"
  },
  "language_info": {
   "codemirror_mode": {
    "name": "ipython",
    "version": 3
   },
   "file_extension": ".py",
   "mimetype": "text/x-python",
   "name": "python",
   "nbconvert_exporter": "python",
   "pygments_lexer": "ipython3",
   "version": "3.10.6"
  },
  "orig_nbformat": 4,
  "vscode": {
   "interpreter": {
    "hash": "52a766ffa684cc96df599f1bd3c4f4c6e047bebceb5b3d3acc74da71a383edc3"
   }
  }
 },
 "nbformat": 4,
 "nbformat_minor": 2
}
