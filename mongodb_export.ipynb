{
 "cells": [
  {
   "cell_type": "code",
   "execution_count": null,
   "metadata": {},
   "outputs": [],
   "source": [
    "from pyspark.sql import SparkSession\n",
    "from pyspark.sql.functions import udf,col \n",
    "from pyspark.sql.functions import udf,col,sum,avg,count,unix_timestamp\n",
    "import pandas as pd\n",
    "import boto3\n",
    "from io import StringIO"
   ]
  },
  {
   "cell_type": "code",
   "execution_count": null,
   "metadata": {},
   "outputs": [],
   "source": [
    "spark = SparkSession.builder.appName (\"Analytics project session\")\\\n",
    "    .config(\"spark.mongodb.input.uri\", \"mongodb://127.0.0.1:27017/mock-project.dataCollection\") \\\n",
    "    .config(\"spark.mongodb.output.uri\", \"mongodb://127.0.0.1:27017/mock-project.dataCollection\") \\\n",
    "    .config('spark.jars.packages', 'org.mongodb.spark:mongo-spark-connector_2.12:3.0.1') \\\n",
    "    .getOrCreate()"
   ]
  },
  {
   "cell_type": "code",
   "execution_count": 1,
   "metadata": {},
   "outputs": [
    {
     "name": "stdout",
     "output_type": "stream",
     "text": [
      "22/11/15 16:17:53 WARN Utils: Your hostname, Admins-MacBook-Air.local resolves to a loopback address: 127.0.0.1; using 172.29.171.168 instead (on interface en0)\n",
      "22/11/15 16:17:53 WARN Utils: Set SPARK_LOCAL_IP if you need to bind to another address\n",
      ":: loading settings :: url = jar:file:/Users/_charjan/Documents/Python/venv/lib/python3.10/site-packages/pyspark/jars/ivy-2.5.0.jar!/org/apache/ivy/core/settings/ivysettings.xml\n"
     ]
    },
    {
     "name": "stderr",
     "output_type": "stream",
     "text": [
      "Ivy Default Cache set to: /Users/_charjan/.ivy2/cache\n",
      "The jars for the packages stored in: /Users/_charjan/.ivy2/jars\n",
      "org.mongodb.spark#mongo-spark-connector_2.12 added as a dependency\n",
      ":: resolving dependencies :: org.apache.spark#spark-submit-parent-78118f4f-2af2-4ef1-88f2-aee74236a4f3;1.0\n",
      "\tconfs: [default]\n",
      "\tfound org.mongodb.spark#mongo-spark-connector_2.12;3.0.1 in central\n",
      "\tfound org.mongodb#mongodb-driver-sync;4.0.5 in central\n",
      "\tfound org.mongodb#bson;4.0.5 in central\n",
      "\tfound org.mongodb#mongodb-driver-core;4.0.5 in central\n",
      ":: resolution report :: resolve 385ms :: artifacts dl 20ms\n",
      "\t:: modules in use:\n",
      "\torg.mongodb#bson;4.0.5 from central in [default]\n",
      "\torg.mongodb#mongodb-driver-core;4.0.5 from central in [default]\n",
      "\torg.mongodb#mongodb-driver-sync;4.0.5 from central in [default]\n",
      "\torg.mongodb.spark#mongo-spark-connector_2.12;3.0.1 from central in [default]\n",
      "\t---------------------------------------------------------------------\n",
      "\t|                  |            modules            ||   artifacts   |\n",
      "\t|       conf       | number| search|dwnlded|evicted|| number|dwnlded|\n",
      "\t---------------------------------------------------------------------\n",
      "\t|      default     |   4   |   0   |   0   |   0   ||   4   |   0   |\n",
      "\t---------------------------------------------------------------------\n",
      ":: retrieving :: org.apache.spark#spark-submit-parent-78118f4f-2af2-4ef1-88f2-aee74236a4f3\n",
      "\tconfs: [default]\n",
      "\t0 artifacts copied, 4 already retrieved (0kB/11ms)\n"
     ]
    },
    {
     "name": "stdout",
     "output_type": "stream",
     "text": [
      "22/11/15 16:17:54 WARN NativeCodeLoader: Unable to load native-hadoop library for your platform... using builtin-java classes where applicable\n"
     ]
    },
    {
     "name": "stderr",
     "output_type": "stream",
     "text": [
      "Setting default log level to \"WARN\".\n",
      "To adjust logging level use sc.setLogLevel(newLevel). For SparkR, use setLogLevel(newLevel).\n",
      "[Stage 3:>                                                          (0 + 4) / 4]\r"
     ]
    },
    {
     "name": "stdout",
     "output_type": "stream",
     "text": [
      "22/11/15 16:18:06 WARN CSVHeaderChecker: CSV header does not conform to the schema.\n",
      " Header: order_products_value, order_freight_value, order_items_qty, order_purchase_timestamp\n",
      " Schema: 79.0, 17.8, 1.0, 2017-10-02 10:56:00\n",
      "Expected: 79.0 but found: order_products_value\n",
      "CSV file: file:///Users/_charjan/Desktop/Training/Mock_project/Amazon-Mock-Project/data/cleaned_data.csv/headers.csv\n"
     ]
    },
    {
     "name": "stderr",
     "output_type": "stream",
     "text": [
      "                                                                                \r"
     ]
    },
    {
     "name": "stdout",
     "output_type": "stream",
     "text": [
      "+-------------------+-----------+\n",
      "|order_purchase_date|Total_sales|\n",
      "+-------------------+-----------+\n",
      "|         2016-09-04|     479.76|\n",
      "|         2016-09-05|      73.16|\n",
      "|         2016-09-13|     118.93|\n",
      "|         2016-09-15|     116.89|\n",
      "|         2016-10-02|      72.14|\n",
      "|         2016-10-03|    1141.52|\n",
      "|         2016-10-04|   12443.69|\n",
      "|         2016-10-05|    8117.52|\n",
      "|         2016-10-06|   14853.29|\n",
      "|         2016-10-07|    7626.54|\n",
      "+-------------------+-----------+\n",
      "only showing top 10 rows\n",
      "\n",
      "22/11/15 16:18:14 WARN CSVHeaderChecker: CSV header does not conform to the schema.\n",
      " Header: order_freight_value, customer_city, order_purchase_timestamp\n",
      " Schema: 17.8, Luziania, 2017-10-02 10:56:00\n",
      "Expected: 17.8 but found: order_freight_value\n",
      "CSV file: file:///Users/_charjan/Desktop/Training/Mock_project/Amazon-Mock-Project/data/cleaned_data.csv/headers.csv\n"
     ]
    },
    {
     "name": "stderr",
     "output_type": "stream",
     "text": [
      "[Stage 6:=============================>                             (2 + 2) / 4]\r"
     ]
    },
    {
     "name": "stdout",
     "output_type": "stream",
     "text": [
      "+--------------------+-------------------+-------------------+---------------------+\n",
      "|       customer_city|order_purchase_year|order_purchase_week|total_freight_charges|\n",
      "+--------------------+-------------------+-------------------+---------------------+\n",
      "|ALMIRANTE TAMANDA...|               2017|                 43|                 15.1|\n",
      "|ALMIRANTE TAMANDA...|               2018|                 27|                23.28|\n",
      "|ALTA FLORESTA D'O...|               2017|                 47|                37.77|\n",
      "|ALTA FLORESTA D'O...|               2018|                  1|                52.17|\n",
      "|ALTO ALEGRE DOS P...|               2017|                 46|                46.95|\n",
      "+--------------------+-------------------+-------------------+---------------------+\n",
      "only showing top 5 rows\n",
      "\n"
     ]
    },
    {
     "name": "stderr",
     "output_type": "stream",
     "text": [
      "                                                                                \r"
     ]
    }
   ],
   "source": [
    "from code_dfquery import *"
   ]
  },
  {
   "cell_type": "code",
   "execution_count": 2,
   "metadata": {},
   "outputs": [
    {
     "name": "stdout",
     "output_type": "stream",
     "text": [
      "22/11/15 16:19:41 WARN CSVHeaderChecker: CSV header does not conform to the schema.\n",
      " Header: order_purchase_timestamp\n",
      " Schema: 2017-10-02 10:56:00\n",
      "Expected: 2017-10-02 10:56:00 but found: order_purchase_timestamp\n",
      "CSV file: file:///Users/_charjan/Desktop/Training/Mock_project/Amazon-Mock-Project/data/cleaned_data.csv/headers.csv\n"
     ]
    },
    {
     "name": "stderr",
     "output_type": "stream",
     "text": [
      "                                                                                \r"
     ]
    },
    {
     "data": {
      "text/plain": [
       "634"
      ]
     },
     "execution_count": 2,
     "metadata": {},
     "output_type": "execute_result"
    },
    {
     "name": "stdout",
     "output_type": "stream",
     "text": [
      "22/11/15 23:21:26 WARN HeartbeatReceiver: Removing executor driver with no recent heartbeats: 934973 ms exceeds timeout 120000 ms\n",
      "22/11/15 23:21:27 WARN SparkContext: Killing executors is not supported by current scheduler.\n"
     ]
    }
   ],
   "source": [
    "csv_df.select('order_purchase_date').distinct().count()"
   ]
  },
  {
   "cell_type": "code",
   "execution_count": null,
   "metadata": {},
   "outputs": [],
   "source": [
    "for key,value in df_names.items():\n",
    "    value.write\\\n",
    "        .format('com.mongodb.spark.sql.DefaultSource')\\\n",
    "        .option('uri', 'mongodb://127.0.0.1:27017/mock-project-amazon.' + key) \\\n",
    "        .save()"
   ]
  },
  {
   "cell_type": "code",
   "execution_count": null,
   "metadata": {},
   "outputs": [],
   "source": []
  }
 ],
 "metadata": {
  "kernelspec": {
   "display_name": "Python 3.10.6 ('venv')",
   "language": "python",
   "name": "python3"
  },
  "language_info": {
   "codemirror_mode": {
    "name": "ipython",
    "version": 3
   },
   "file_extension": ".py",
   "mimetype": "text/x-python",
   "name": "python",
   "nbconvert_exporter": "python",
   "pygments_lexer": "ipython3",
   "version": "3.10.6"
  },
  "orig_nbformat": 4,
  "vscode": {
   "interpreter": {
    "hash": "52a766ffa684cc96df599f1bd3c4f4c6e047bebceb5b3d3acc74da71a383edc3"
   }
  }
 },
 "nbformat": 4,
 "nbformat_minor": 2
}
